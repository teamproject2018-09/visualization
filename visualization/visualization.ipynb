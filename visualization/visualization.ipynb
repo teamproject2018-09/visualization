{
 "cells": [
  {
   "cell_type": "code",
   "execution_count": null,
   "metadata": {
    "collapsed": true
   },
   "outputs": [],
   "source": [
    "import csv\n",
    "from datetime import datetime\n",
    "import sys\n",
    "\n",
    "DATADIR = \"../../data\"\n",
    "INFILE = \"esciencecenter-user.csv\"\n",
    "LANGS = [\"en\",\"nl\",\"other\",\"unknown\"]\n",
    "inFile = open(DATADIR+\"/\"+INFILE,\"r\")\n",
    "csvreader = csv.DictReader(inFile)\n",
    "\n",
    "table = {}\n",
    "for row in csvreader:\n",
    "    lang = row[\"lang\"]\n",
    "    if lang == \"\" or lang == \"und\": lang = \"unknown\"\n",
    "    elif not lang == \"en\" and not lang == \"nl\": lang = \"other\"\n",
    "    year = datetime.strptime(row[\"date\"],\"%Y-%m-%d\").year\n",
    "    if not lang in table: \n",
    "        for l in LANGS: table[l] = {}\n",
    "    if not year in table[lang]: \n",
    "        for l in LANGS: table[l][year] = 0\n",
    "    table[lang][year] += 1\n",
    "inFile.close()"
   ]
  },
  {
   "cell_type": "code",
   "execution_count": null,
   "metadata": {},
   "outputs": [],
   "source": [
    "import matplotlib\n",
    "import matplotlib.pyplot as plt\n",
    "import operator\n",
    "\n",
    "font = {'size':16}\n",
    "matplotlib.rc('font', **font)\n",
    "\n",
    "plt.figure(figsize=(15,8))\n",
    "en = plt.bar(list(table[\"en\"].keys()),list(table[\"en\"].values()),label=\"English\")\n",
    "nl = plt.bar(list(table[\"nl\"].keys()),list(table[\"nl\"].values()),color=\"r\",\n",
    "             bottom=list(table[\"en\"].values()),label=\"Dutch\")\n",
    "other = plt.bar(list(table[\"other\"].keys()),list(table[\"other\"].values()),color=\"g\",\n",
    "                bottom=list(map(operator.add,list(table[\"en\"].values()),list(table[\"nl\"].values()))),\n",
    "                label=\"Other\")\n",
    "unknown = plt.bar(list(table[\"unknown\"].keys()),list(table[\"unknown\"].values()),color=\"orange\",\n",
    "                  bottom=list(map(operator.add,list(map(operator.add,list(table[\"en\"].values()),\n",
    "                                                list(table[\"nl\"].values()))),\n",
    "                                  list(table[\"other\"].values()))),label=\"Unknown\")\n",
    "plt.title(INFILE)\n",
    "plt.legend(handles=[en,nl,other,unknown])\n",
    "plt.savefig(INFILE+\".png\")\n",
    "plt.show()"
   ]
  },
  {
   "cell_type": "code",
   "execution_count": null,
   "metadata": {
    "collapsed": true
   },
   "outputs": [],
   "source": [
    "from matplotlib import dates\n",
    "\n",
    "INFILE = \"twiqs-counts.txt\"\n",
    "try: inFile = open(DATADIR+\"/\"+INFILE,\"r\")\n",
    "except: sys.exit(\"opeing file \"+INFILE+\"failed\")\n",
    "    \n",
    "table = {}\n",
    "for line in inFile:\n",
    "    fields = line.split()\n",
    "    thisDate = datetime.strptime(fields[0],\"%Y%m\")\n",
    "    month = thisDate.replace(day=1)\n",
    "    monthNum = dates.date2num(month)\n",
    "    if not monthNum in table: table[monthNum] = 0\n",
    "    table[monthNum] += int(fields[1])\n",
    "inFile.close()"
   ]
  },
  {
   "cell_type": "code",
   "execution_count": null,
   "metadata": {},
   "outputs": [],
   "source": [
    "thisPlot = plt.figure(figsize=(15,8))\n",
    "axis = thisPlot.add_subplot(111)\n",
    "axis.xaxis.set_major_formatter(dates.DateFormatter('%m/%Y'))\n",
    "plt.plot(list(table.keys()),list(table.values()))\n",
    "plt.title(\"Dutch tweets (in millions per month)\")\n",
    "plt.savefig(INFILE+\".png\")\n",
    "plt.show()"
   ]
  },
  {
   "cell_type": "code",
   "execution_count": null,
   "metadata": {},
   "outputs": [],
   "source": [
    "eventCountsPerYear = {2013:53,2014:14,2015:54,2016:104,2017:26,2018:2}\n",
    "plt.figure(figsize=(15,8))\n",
    "plt.bar(list(eventCountsPerYear.keys()),list(eventCountsPerYear.values()))\n",
    "plt.savefig(\"eventCountsPerYear.png\")\n",
    "plt.show()"
   ]
  },
  {
   "cell_type": "code",
   "execution_count": null,
   "metadata": {
    "collapsed": true
   },
   "outputs": [],
   "source": []
  }
 ],
 "metadata": {
  "kernelspec": {
   "display_name": "Python 3",
   "language": "python",
   "name": "python3"
  },
  "language_info": {
   "codemirror_mode": {
    "name": "ipython",
    "version": 3
   },
   "file_extension": ".py",
   "mimetype": "text/x-python",
   "name": "python",
   "nbconvert_exporter": "python",
   "pygments_lexer": "ipython3",
   "version": "3.6.1"
  }
 },
 "nbformat": 4,
 "nbformat_minor": 2
}
